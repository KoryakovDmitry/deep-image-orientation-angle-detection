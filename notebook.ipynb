{
 "cells": [
  {
   "cell_type": "markdown",
   "metadata": {},
   "source": [
    "# Libraries "
   ]
  },
  {
   "cell_type": "code",
   "execution_count": null,
   "metadata": {},
   "outputs": [],
   "source": [
    "#Import Libraries\n",
    "from models import OAD\n",
    "from config import TRAIN_DF_PATH, TRAIN_DIR_PATH, VALID_DF_PATH, VALID_DIR_PATH, \\\n",
    "BATCH_SIZE, MODEL_SAVE_DIR, INIT_CHECKPOINT, TEST_DF_PATH, TEST_DIR_PATH"
   ]
  },
  {
   "cell_type": "markdown",
   "metadata": {},
   "source": [
    "# Training "
   ]
  },
  {
   "cell_type": "code",
   "execution_count": null,
   "metadata": {},
   "outputs": [],
   "source": [
    "#Define Model and Train\n",
    "model = OAD()\n",
    "model.fit(TRAIN_DIR_PATH, VALID_DIR_PATH, TRAIN_DF_PATH, VALID_DF_PATH, BATCH_SIZE, \n",
    "          MODEL_SAVE_DIR, INIT_CHECKPOINT)"
   ]
  },
  {
   "cell_type": "markdown",
   "metadata": {},
   "source": [
    "# Get Model Predictions "
   ]
  },
  {
   "cell_type": "code",
   "execution_count": null,
   "metadata": {},
   "outputs": [],
   "source": [
    "#Load Saved Model\n",
    "model = OAD()\n",
    "model.load_model(INIT_CHECKPOINT)"
   ]
  },
  {
   "cell_type": "code",
   "execution_count": null,
   "metadata": {},
   "outputs": [],
   "source": [
    "#Get Predictions\n",
    "pred_angles = model.predict(TEST_DIR_PATH, TEST_DF_PATH, 32)\n",
    "print(pred_angles)"
   ]
  }
 ],
 "metadata": {
  "kernelspec": {
   "display_name": "Python 3",
   "language": "python",
   "name": "python3"
  },
  "language_info": {
   "codemirror_mode": {
    "name": "ipython",
    "version": 3
   },
   "file_extension": ".py",
   "mimetype": "text/x-python",
   "name": "python",
   "nbconvert_exporter": "python",
   "pygments_lexer": "ipython3",
   "version": "3.7.4"
  }
 },
 "nbformat": 4,
 "nbformat_minor": 2
}
